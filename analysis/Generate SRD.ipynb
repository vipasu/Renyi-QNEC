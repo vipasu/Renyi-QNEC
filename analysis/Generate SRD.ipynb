{
 "cells": [
  {
   "cell_type": "code",
   "execution_count": 1,
   "metadata": {},
   "outputs": [],
   "source": [
    "using ITensors\n",
    "using Plots\n",
    "using ColorSchemes\n",
    "include(\"../src/util.jl\")\n",
    "include(\"../src/hamiltonian.jl\")\n",
    "using .util\n",
    "using .hamiltonian\n"
   ]
  },
  {
   "cell_type": "code",
   "execution_count": 2,
   "metadata": {
    "scrolled": true
   },
   "outputs": [
    {
     "data": {
      "text/plain": [
       "calculate_model_SRDs (generic function with 1 method)"
      ]
     },
     "execution_count": 2,
     "metadata": {},
     "output_type": "execute_result"
    }
   ],
   "source": [
    "function calculate_model_SRDs(model, N, localdim)\n",
    "    fname = \"../data/$(model)_$N\"\n",
    "    println(fname)\n",
    "    wfs = util.load_MPS(fname, \"wf1\"), util.load_MPS(fname, \"wf2\")\n",
    "    rel_ents = util.calculate_relative_entropies(wfs[2], wfs[1], N, localdim)\n",
    "    step = .05\n",
    "    n_range = vcat(.7:step:.95, 1.05:step:1.25)\n",
    "    SRDs = [util.calculate_srds(wfs[2], wfs[1], N, n, localdim) for n in n_range]\n",
    "    x_range = collect(1:length(rel_ents))/N\n",
    "\n",
    "    n_range, SRDs, rel_ents\n",
    "end\n"
   ]
  },
  {
   "cell_type": "code",
   "execution_count": 3,
   "metadata": {},
   "outputs": [
    {
     "name": "stdout",
     "output_type": "stream",
     "text": [
      "../data/TFIM_8\n"
     ]
    }
   ],
   "source": [
    "calculate_model_SRDs(\"TFIM\", 8, 2);\n",
    "# important to run this line to avoid name space clashes with DF and CSV"
   ]
  },
  {
   "cell_type": "code",
   "execution_count": 4,
   "metadata": {
    "scrolled": true
   },
   "outputs": [],
   "source": [
    "import DataFrames\n",
    "import CSV"
   ]
  },
  {
   "cell_type": "code",
   "execution_count": 5,
   "metadata": {
    "scrolled": true
   },
   "outputs": [
    {
     "data": {
      "text/plain": [
       "convert_to_df (generic function with 1 method)"
      ]
     },
     "execution_count": 5,
     "metadata": {},
     "output_type": "execute_result"
    }
   ],
   "source": [
    "function convert_to_df(n_range, SRDs, rel_ents)\n",
    "    d = DataFrames.DataFrame()\n",
    "    d[!, \"n\"] = n_range\n",
    "    n_sites = length(rel_ents)\n",
    "    for i in 1:n_sites\n",
    "        d[!, string(i)] = [srd[i] for srd in SRDs]\n",
    "    end\n",
    "    push!(d, [1, rel_ents...])\n",
    "    d\n",
    "end"
   ]
  },
  {
   "cell_type": "code",
   "execution_count": 6,
   "metadata": {},
   "outputs": [
    {
     "data": {
      "text/plain": [
       "16"
      ]
     },
     "execution_count": 6,
     "metadata": {},
     "output_type": "execute_result"
    }
   ],
   "source": [
    "models = [\"TFIM\", \"XXZ\", \"WZW\", \"Heisenberg\"]\n",
    "localdims = [2, 2, 3, 3]\n",
    "N = 16"
   ]
  },
  {
   "cell_type": "code",
   "execution_count": null,
   "metadata": {},
   "outputs": [
    {
     "name": "stdout",
     "output_type": "stream",
     "text": [
      "../data/TFIM_16\n",
      "../data/XXZ_16\n"
     ]
    }
   ],
   "source": [
    "for (model, localdim) in zip(models, localdims)\n",
    "  fname = \"../data/$(model)_$(N)_srd.csv\"\n",
    "  df = convert_to_df(calculate_model_SRDs(model, N, localdim)...)\n",
    "  CSV.write(fname, df)\n",
    "end"
   ]
  }
 ],
 "metadata": {
  "kernelspec": {
   "display_name": "Julia 1.4.1",
   "language": "julia",
   "name": "julia-1.4"
  },
  "language_info": {
   "file_extension": ".jl",
   "mimetype": "application/julia",
   "name": "julia",
   "version": "1.4.2"
  }
 },
 "nbformat": 4,
 "nbformat_minor": 4
}
